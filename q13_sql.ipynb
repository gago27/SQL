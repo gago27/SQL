{
  "nbformat": 4,
  "nbformat_minor": 0,
  "metadata": {
    "colab": {
      "name": "q13.sql",
      "version": "0.3.2",
      "provenance": [],
      "include_colab_link": true
    },
    "kernelspec": {
      "name": "python3",
      "display_name": "Python 3"
    }
  },
  "cells": [
    {
      "cell_type": "markdown",
      "metadata": {
        "id": "view-in-github",
        "colab_type": "text"
      },
      "source": [
        "<a href=\"https://colab.research.google.com/github/gago27/sql/blob/master/q13_sql.ipynb\" target=\"_parent\"><img src=\"https://colab.research.google.com/assets/colab-badge.svg\" alt=\"Open In Colab\"/></a>"
      ]
    },
    {
      "cell_type": "code",
      "metadata": {
        "id": "HLgSEKkAX-8d",
        "colab_type": "code",
        "colab": {}
      },
      "source": [
        "## \n",
        "## Escriba una consulta que retorne por cada letra\n",
        "## de la columna K0, el valor máximo de la coumna c12\n",
        "## en la tabla tbl1.\n",
        "##\n",
        "import sqlite3\n",
        "import glob\n",
        "\n",
        "filenames = glob.glob(\"tbl1.csv\")\n",
        "conn = sqlite3.connect(\":memory:\")\n",
        "cur= conn.cursor()\n",
        "\n",
        "tabla = \"\"\"\n",
        "  CREATE TABLE tbl1(\n",
        "  K0 CHAR(1),\n",
        "  K1 INT,\n",
        "  c12 FLOAT,\n",
        "  c13 INT,\n",
        "  c14 DATE,\n",
        "  c15 FLOAT,\n",
        "  c16 CHAR(4)\n",
        "  );\n",
        "\"\"\"\n",
        "cur.execute(tabla).fetchall()\n",
        "\n",
        "tabla2 = open('tbl1.csv', 'rt', encoding='utf-8').readlines()\n",
        "tabla1 = [line[:-1] for line in tabla2[:-1]]\n",
        "tabla1.append(tabla2[-1])\n",
        "tabla2= tabla1\n",
        "tabla2 = [line.split(\",\") for line in tabla2]\n",
        "tabla2 = [tuple(line) for line in tabla2]\n",
        "\n",
        "cur.executemany(\"INSERT INTO tbl1 VALUES(?,?,?,?,?,?,?)\", tabla2).fetchall()\n",
        "cur.execute(\"SELECT K0, MAX(c12), MIN(c12) FROM tbl1 GROUP BY K0\").fetchall()"
      ],
      "execution_count": 0,
      "outputs": []
    }
  ]
}