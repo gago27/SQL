{
  "nbformat": 4,
  "nbformat_minor": 0,
  "metadata": {
    "colab": {
      "name": "q06.sql",
      "version": "0.3.2",
      "provenance": [],
      "include_colab_link": true
    },
    "kernelspec": {
      "name": "python3",
      "display_name": "Python 3"
    }
  },
  "cells": [
    {
      "cell_type": "markdown",
      "metadata": {
        "id": "view-in-github",
        "colab_type": "text"
      },
      "source": [
        "<a href=\"https://colab.research.google.com/github/gago27/sql/blob/master/q06_sql.ipynb\" target=\"_parent\"><img src=\"https://colab.research.google.com/assets/colab-badge.svg\" alt=\"Open In Colab\"/></a>"
      ]
    },
    {
      "cell_type": "code",
      "metadata": {
        "id": "ESpnsaxkLQPh",
        "colab_type": "code",
        "outputId": "7d3ae91c-54d1-4f4b-da19-64e6fb424636",
        "colab": {
          "base_uri": "https://localhost:8080/",
          "height": 119
        }
      },
      "source": [
        "## \n",
        "## Escriba una consulta que retorne todos los campos de \n",
        "## la tabla tbl1 ordenada por fecha (c14) para los \n",
        "## registros con K0 igual a A\n",
        "## \n",
        "import sqlite3\n",
        "import glob\n",
        "\n",
        "filenames= glob.glob(\"tbl1.csv\")\n",
        "conn = sqlite3.connect(\":memory:\")\n",
        "cur = conn.cursor()\n",
        "tabla = \"\"\"\n",
        "CREATE TABLE tbl1 ( \n",
        "  K0 CHAR(1),\n",
        "  K1 INT,\n",
        "  c12 FLOAT,\n",
        "  c13 INT,\n",
        "  c14 DATE,\n",
        "  c15 FLOAT,\n",
        "  c16 CHAR(4)\n",
        "  );\n",
        "\"\"\"\n",
        "conn.execute(tabla).fetchall()\n",
        "tablas = open(\"tbl1.csv\", \"rt\", encoding=\"utf-8\").readlines()\n",
        "tablas1 = [line[:-1] for line in tablas[:-1]]\n",
        "tablas1.append(tablas[-1])\n",
        "tablas1 = [line.split(\",\") for line in tablas1]\n",
        "tablas = tablas1\n",
        "tablas = [tuple(line) for line in tablas]\n",
        "conn.executemany(\"INSERT INTO tbl1 VALUES(?,?,?,?,?,?,?)\", tablas).fetchall()\n",
        "conn.execute(\"SELECT * FROM tbl1 WHERE K0 = 'A' ORDER BY c14\").fetchall()"
      ],
      "execution_count": 11,
      "outputs": [
        {
          "output_type": "execute_result",
          "data": {
            "text/plain": [
              "[('A', 20, 938.16, 300, '2016-09-12', 0.19, 'BECB'),\n",
              " ('A', 30, 135.8, 900, '2017-01-26', 0.23, 'EGAB'),\n",
              " ('A', 18, 142.99, 100, '2017-02-12', 0.48, 'GGFD'),\n",
              " ('A', 26, 456.47, 400, '2018-01-28', 0.11, 'FGED'),\n",
              " ('A', 6, 391.42, 300, '2018-05-15', 0.22, 'BFGB'),\n",
              " ('A', 10, 816.51, 600, '2019-04-25', 0.4, 'DAGC')]"
            ]
          },
          "metadata": {
            "tags": []
          },
          "execution_count": 11
        }
      ]
    },
    {
      "cell_type": "code",
      "metadata": {
        "id": "AfKJPRJ__EHQ",
        "colab_type": "code",
        "colab": {
          "base_uri": "https://localhost:8080/",
          "height": 119
        },
        "outputId": "97cefc96-03ed-4151-b70b-9fc9f1d5d054"
      },
      "source": [
        "conn.execute(\"SELECT * FROM tbl1 WHERE K0 = 'A' ORDER BY c14\").fetchall()"
      ],
      "execution_count": 10,
      "outputs": [
        {
          "output_type": "execute_result",
          "data": {
            "text/plain": [
              "[('A', 20, 938.16, 300, '2016-09-12', 0.19, 'BECB'),\n",
              " ('A', 30, 135.8, 900, '2017-01-26', 0.23, 'EGA'),\n",
              " ('A', 18, 142.99, 100, '2017-02-12', 0.48, 'GGFD'),\n",
              " ('A', 26, 456.47, 400, '2018-01-28', 0.11, 'FGED'),\n",
              " ('A', 6, 391.42, 300, '2018-05-15', 0.22, 'BFGB'),\n",
              " ('A', 10, 816.51, 600, '2019-04-25', 0.4, 'DAGC')]"
            ]
          },
          "metadata": {
            "tags": []
          },
          "execution_count": 10
        }
      ]
    },
    {
      "cell_type": "code",
      "metadata": {
        "id": "UKkmgtUA_cAZ",
        "colab_type": "code",
        "colab": {
          "base_uri": "https://localhost:8080/",
          "height": 527
        },
        "outputId": "99275c91-ad12-41ff-97bc-75866c46c905"
      },
      "source": [
        "conn.execute(\"SELECT * FROM tbl1\").fetchall()"
      ],
      "execution_count": 9,
      "outputs": [
        {
          "output_type": "execute_result",
          "data": {
            "text/plain": [
              "[('E', 1, 273.08, 600, '2016-12-31', 0.21, 'BDGD'),\n",
              " ('D', 2, 756.37, 500, '2019-02-28', 0.37, 'BCCC'),\n",
              " ('E', 3, 305.43, 100, '2017-05-21', 0.21, 'BAED'),\n",
              " ('D', 4, 662.69, 800, '2017-03-26', 0.23, 'BGDD'),\n",
              " ('C', 5, 822.81, 100, '2017-11-17', 0.35, 'GGFC'),\n",
              " ('A', 6, 391.42, 300, '2018-05-15', 0.22, 'BFGB'),\n",
              " ('C', 7, 755.27, 800, '2018-07-04', 0.47, 'GCDB'),\n",
              " ('E', 8, 302.86, 700, '2016-12-22', 0.14, 'DFCC'),\n",
              " ('C', 9, 267.42, 200, '2018-04-18', 0.1, 'DGCE'),\n",
              " ('A', 10, 816.51, 600, '2019-04-25', 0.4, 'DAGC'),\n",
              " ('C', 11, 346.64, 900, '2017-04-18', 0.15, 'FBBC'),\n",
              " ('B', 12, 999.72, 800, '2016-11-09', 0.26, 'FCGD'),\n",
              " ('C', 13, 712.61, 400, '2017-10-23', 0.31, 'EDDA'),\n",
              " ('E', 14, 832.44, 800, '2016-11-22', 0.39, 'EGFD'),\n",
              " ('C', 15, 370.58, 900, '2016-10-01', 0.11, 'GCDD'),\n",
              " ('B', 16, 283.4, 600, '2019-04-11', 0.14, 'BDEE'),\n",
              " ('E', 17, 692.93, 200, '2018-03-25', 0.25, 'BGGA'),\n",
              " ('A', 18, 142.99, 100, '2017-02-12', 0.48, 'GGFD'),\n",
              " ('C', 19, 570.43, 400, '2019-04-12', 0.48, 'FBEE'),\n",
              " ('A', 20, 938.16, 300, '2016-09-12', 0.19, 'BECB'),\n",
              " ('B', 21, 409.34, 400, '2019-04-29', 0.23, 'GFAE'),\n",
              " ('E', 22, 118.77, 900, '2016-10-29', 0.32, 'GEFE'),\n",
              " ('E', 23, 325.15, 200, '2019-04-21', 0.19, 'FBGC'),\n",
              " ('C', 24, 482.32, 300, '2019-05-03', 0.11, 'CCCE'),\n",
              " ('E', 25, 600.9, 700, '2018-11-07', 0.36, 'BBBA'),\n",
              " ('A', 26, 456.47, 400, '2018-01-28', 0.11, 'FGED'),\n",
              " ('E', 27, 720.9, 800, '2017-01-16', 0.12, 'FBGD'),\n",
              " ('B', 28, 326.45, 700, '2017-07-27', 0.36, 'AGAA'),\n",
              " ('D', 29, 317.77, 200, '2017-02-27', 0.47, 'GCEA'),\n",
              " ('A', 30, 135.8, 900, '2017-01-26', 0.23, 'EGA')]"
            ]
          },
          "metadata": {
            "tags": []
          },
          "execution_count": 9
        }
      ]
    },
    {
      "cell_type": "code",
      "metadata": {
        "id": "M50M3KGA-E0b",
        "colab_type": "code",
        "colab": {
          "base_uri": "https://localhost:8080/",
          "height": 527
        },
        "outputId": "b22e5d88-f7db-4713-d1c0-6f58b07add3b"
      },
      "source": [
        "\n",
        "tablas"
      ],
      "execution_count": 7,
      "outputs": [
        {
          "output_type": "execute_result",
          "data": {
            "text/plain": [
              "[('E', '1', '273.08', '600', '2016-12-31', '0.21', 'BDGD'),\n",
              " ('D', '2', '756.37', '500', '2019-02-28', '0.37', 'BCCC'),\n",
              " ('E', '3', '305.43', '100', '2017-05-21', '0.21', 'BAED'),\n",
              " ('D', '4', '662.69', '800', '2017-03-26', '0.23', 'BGDD'),\n",
              " ('C', '5', '822.81', '100', '2017-11-17', '0.35', 'GGFC'),\n",
              " ('A', '6', '391.42', '300', '2018-05-15', '0.22', 'BFGB'),\n",
              " ('C', '7', '755.27', '800', '2018-07-04', '0.47', 'GCDB'),\n",
              " ('E', '8', '302.86', '700', '2016-12-22', '0.14', 'DFCC'),\n",
              " ('C', '9', '267.42', '200', '2018-04-18', '0.10', 'DGCE'),\n",
              " ('A', '10', '816.51', '600', '2019-04-25', '0.40', 'DAGC'),\n",
              " ('C', '11', '346.64', '900', '2017-04-18', '0.15', 'FBBC'),\n",
              " ('B', '12', '999.72', '800', '2016-11-09', '0.26', 'FCGD'),\n",
              " ('C', '13', '712.61', '400', '2017-10-23', '0.31', 'EDDA'),\n",
              " ('E', '14', '832.44', '800', '2016-11-22', '0.39', 'EGFD'),\n",
              " ('C', '15', '370.58', '900', '2016-10-01', '0.11', 'GCDD'),\n",
              " ('B', '16', '283.40', '600', '2019-04-11', '0.14', 'BDEE'),\n",
              " ('E', '17', '692.93', '200', '2018-03-25', '0.25', 'BGGA'),\n",
              " ('A', '18', '142.99', '100', '2017-02-12', '0.48', 'GGFD'),\n",
              " ('C', '19', '570.43', '400', '2019-04-12', '0.48', 'FBEE'),\n",
              " ('A', '20', '938.16', '300', '2016-09-12', '0.19', 'BECB'),\n",
              " ('B', '21', '409.34', '400', '2019-04-29', '0.23', 'GFAE'),\n",
              " ('E', '22', '118.77', '900', '2016-10-29', '0.32', 'GEFE'),\n",
              " ('E', '23', '325.15', '200', '2019-04-21', '0.19', 'FBGC'),\n",
              " ('C', '24', '482.32', '300', '2019-05-03', '0.11', 'CCCE'),\n",
              " ('E', '25', '600.90', '700', '2018-11-07', '0.36', 'BBBA'),\n",
              " ('A', '26', '456.47', '400', '2018-01-28', '0.11', 'FGED'),\n",
              " ('E', '27', '720.90', '800', '2017-01-16', '0.12', 'FBGD'),\n",
              " ('B', '28', '326.45', '700', '2017-07-27', '0.36', 'AGAA'),\n",
              " ('D', '29', '317.77', '200', '2017-02-27', '0.47', 'GCEA'),\n",
              " ('A', '30', '135.80', '900', '2017-01-26', '0.23', 'EGA')]"
            ]
          },
          "metadata": {
            "tags": []
          },
          "execution_count": 7
        }
      ]
    }
  ]
}