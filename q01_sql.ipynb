{
  "nbformat": 4,
  "nbformat_minor": 0,
  "metadata": {
    "colab": {
      "name": "q01.sql",
      "version": "0.3.2",
      "provenance": [],
      "include_colab_link": true
    },
    "kernelspec": {
      "name": "python3",
      "display_name": "Python 3"
    }
  },
  "cells": [
    {
      "cell_type": "markdown",
      "metadata": {
        "id": "view-in-github",
        "colab_type": "text"
      },
      "source": [
        "<a href=\"https://colab.research.google.com/github/gago27/sql/blob/master/q01_sql.ipynb\" target=\"_parent\"><img src=\"https://colab.research.google.com/assets/colab-badge.svg\" alt=\"Open In Colab\"/></a>"
      ]
    },
    {
      "cell_type": "code",
      "metadata": {
        "id": "yrWAE3FGgpYL",
        "colab_type": "code",
        "colab": {
          "base_uri": "https://localhost:8080/",
          "height": 34
        },
        "outputId": "c6b64b50-7cf3-4da4-ed3a-6c259056844f"
      },
      "source": [
        "## \n",
        "## Escriba una consulta que devuelva la suma del campo c12\n",
        "## de la tabla tbl1\n",
        "##\n",
        "import sys\n",
        "import sqlite3, os\n",
        "import glob\n",
        "filenames = glob.glob(\"tbl1.csv\")\n",
        "conn = sqlite3.connect(\":memory:\")\n",
        "cur = conn.cursor()\n",
        "sqlcmd= '''\n",
        "CREATE TABLE tbl1 (\n",
        "  K0 CHAR(1),\n",
        "  K1 INT,\n",
        "  c12 FLOAT,\n",
        "  c13 INT,\n",
        "  c14 DATE,\n",
        "  c15 FLOAT,\n",
        "  c16 CHAR(4)\n",
        "  );\n",
        "  '''\n",
        "conn.execute(sqlcmd).fetchall()\n",
        "\n",
        "text = open(\"tbl1.csv\", \"rt\", encoding=\"utf-8\").readlines()\n",
        "text = [line[:-1] for line in text]\n",
        "text = [line.split(\",\") for line in text]\n",
        "text = [tuple(line) for line in text]\n",
        "conn.executemany('INSERT INTO tbl1 VALUES (?,?,?,?,?,?,?)', text).fetchall()\n",
        "lista= conn.execute('''SELECT c12 FROM \"tbl1\"''').fetchall()\n",
        "a = 0\n",
        "for line in lista:\n",
        "  a = a + line[0]\n",
        "a\n"
      ],
      "execution_count": 22,
      "outputs": [
        {
          "output_type": "execute_result",
          "data": {
            "text/plain": [
              "15137.63"
            ]
          },
          "metadata": {
            "tags": []
          },
          "execution_count": 22
        }
      ]
    }
  ]
}