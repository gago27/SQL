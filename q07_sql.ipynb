{
  "nbformat": 4,
  "nbformat_minor": 0,
  "metadata": {
    "colab": {
      "name": "q07.sql",
      "version": "0.3.2",
      "provenance": [],
      "include_colab_link": true
    },
    "kernelspec": {
      "name": "python3",
      "display_name": "Python 3"
    }
  },
  "cells": [
    {
      "cell_type": "markdown",
      "metadata": {
        "id": "view-in-github",
        "colab_type": "text"
      },
      "source": [
        "<a href=\"https://colab.research.google.com/github/gago27/sql/blob/master/q07_sql.ipynb\" target=\"_parent\"><img src=\"https://colab.research.google.com/assets/colab-badge.svg\" alt=\"Open In Colab\"/></a>"
      ]
    },
    {
      "cell_type": "code",
      "metadata": {
        "id": "-BjCZvCGALd4",
        "colab_type": "code",
        "colab": {}
      },
      "source": [
        "## \n",
        "## Escriba una consulta que retorne todos los campos de \n",
        "## la tabla tbl1 ordenada por fecha (c14) para los \n",
        "## registros con K0 diferente a A y B y c13 diferente \n",
        "## de 200 y 900\n",
        "##\n",
        "import sqlite3\n",
        "import glob\n",
        "\n",
        "filenames = glob.glob(\"tbl1.csv\")\n",
        "conn = sqlite3.connect(\":memory:\")\n",
        "cur = conn.cursor()\n",
        "\n",
        "tabla = \"\"\"\n",
        "CREATE TABLE tbl1 (\n",
        "  K0 CHAR(1),\n",
        "  K1 INT,\n",
        "  c12 FLOAT,\n",
        "  c13 INT,\n",
        "  c14 DATE,\n",
        "  c15 FLOAT,\n",
        "  c16 CHAR(4)\n",
        "  );\n",
        "\"\"\"\n",
        "conn.execute(tabla).fetchall()\n",
        "\n",
        "tablas = open(\"tbl1.csv\", \"rt\", encoding=\"utf-8\").readlines()\n",
        "tablas1 = [line[:-1] for line in tablas[:-1]]\n",
        "tablas1.append(tablas[-1])\n",
        "tablas = tablas1\n",
        "tablas = [line.split(\",\") for line in tablas]\n",
        "tablas = [tuple(lines) for lines in tablas]\n",
        "\n",
        "conn.executemany(\"INSERT INTO tbl1 VALUES(?,?,?,?,?,?,?)\", tablas).fetchall()\n",
        "conn.execute(\"SELECT * FROM tbl1 WHERE (NOT K0 = 'A') AND(NOT K0 = 'B') AND(NOT c13 = 200) AND(NOT c13 = 900) ORDER BY c14\").fetchall()"
      ],
      "execution_count": 0,
      "outputs": []
    }
  ]
}