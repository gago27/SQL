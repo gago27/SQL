{
  "nbformat": 4,
  "nbformat_minor": 0,
  "metadata": {
    "colab": {
      "name": "q02.sql",
      "version": "0.3.2",
      "provenance": [],
      "include_colab_link": true
    },
    "kernelspec": {
      "name": "python3",
      "display_name": "Python 3"
    }
  },
  "cells": [
    {
      "cell_type": "markdown",
      "metadata": {
        "id": "view-in-github",
        "colab_type": "text"
      },
      "source": [
        "<a href=\"https://colab.research.google.com/github/gago27/sql/blob/master/q02_sql.ipynb\" target=\"_parent\"><img src=\"https://colab.research.google.com/assets/colab-badge.svg\" alt=\"Open In Colab\"/></a>"
      ]
    },
    {
      "cell_type": "code",
      "metadata": {
        "id": "mRUmyDnx_Lez",
        "colab_type": "code",
        "colab": {
          "base_uri": "https://localhost:8080/",
          "height": 34
        },
        "outputId": "4b6f143b-e738-47c7-d944-03b990ec7833"
      },
      "source": [
        "## \n",
        "## Escriba una consulta que retorne la cantidad de registros\n",
        "## de la tabla tbl1\n",
        "## \n",
        "import sqlite3, os\n",
        "import glob\n",
        "import sys\n",
        "filenames= glob.glob(\"tbl1.csv\")\n",
        "latabla = open(\"tbl1.csv\",\"rt\", encoding=\"utf-8\").readlines()\n",
        "conn = sqlite3.connect(\":memory:\")\n",
        "cur = conn.cursor()\n",
        "\n",
        "tabla1 = '''\n",
        "CREATE TABLE tbl1 (\n",
        "  K0 CHAR(1),\n",
        "  K1 INT,\n",
        "  c12 FLOAT,\n",
        "  c13 INT,\n",
        "  c14 DATE,\n",
        "  c15 FLOAT,\n",
        "  c16 CHAR(4)\n",
        "  );\n",
        "  '''\n",
        "conn.execute(tabla1).fetchall()\n",
        "latabla = [line[:-1] for line in latabla]\n",
        "latabla = [line.split(\",\") for line in latabla]\n",
        "latabla = [tuple(line) for line in latabla]\n",
        "conn.executemany('INSERT INTO tbl1 VALUES (?,?,?,?,?,?,?)', latabla).fetchall()\n",
        "ans = conn.execute('SELECT COUNT(*) FROM \"tbl1\"').fetchall()\n",
        "ans"
      ],
      "execution_count": 54,
      "outputs": [
        {
          "output_type": "execute_result",
          "data": {
            "text/plain": [
              "[(30,)]"
            ]
          },
          "metadata": {
            "tags": []
          },
          "execution_count": 54
        }
      ]
    },
    {
      "cell_type": "code",
      "metadata": {
        "id": "HzC9veewDqFz",
        "colab_type": "code",
        "colab": {
          "base_uri": "https://localhost:8080/",
          "height": 34
        },
        "outputId": "ebd4da40-21f0-4449-d406-ba1e7d8ded7a"
      },
      "source": [
        "conn.execute('SELECT COUNT(*) FROM \"tbl1\"').fetchall()"
      ],
      "execution_count": 53,
      "outputs": [
        {
          "output_type": "execute_result",
          "data": {
            "text/plain": [
              "[(30,)]"
            ]
          },
          "metadata": {
            "tags": []
          },
          "execution_count": 53
        }
      ]
    }
  ]
}