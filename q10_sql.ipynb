{
  "nbformat": 4,
  "nbformat_minor": 0,
  "metadata": {
    "colab": {
      "name": "q10.sql",
      "version": "0.3.2",
      "provenance": [],
      "include_colab_link": true
    },
    "kernelspec": {
      "name": "python3",
      "display_name": "Python 3"
    }
  },
  "cells": [
    {
      "cell_type": "markdown",
      "metadata": {
        "id": "view-in-github",
        "colab_type": "text"
      },
      "source": [
        "<a href=\"https://colab.research.google.com/github/gago27/sql/blob/master/q10_sql.ipynb\" target=\"_parent\"><img src=\"https://colab.research.google.com/assets/colab-badge.svg\" alt=\"Open In Colab\"/></a>"
      ]
    },
    {
      "cell_type": "code",
      "metadata": {
        "id": "hW_0xPukJfG-",
        "colab_type": "code",
        "colab": {}
      },
      "source": [
        "## \n",
        "## Escriba una consulta que retorne todos los \n",
        "## campos de los registros de la tabla tbl0 \n",
        "## con la columna ## c02 mayor o igual a 300.\n",
        "##\n",
        "import sqlite3\n",
        "import glob\n",
        "\n",
        "filenames = glob.glob(\"tbl0.csv\")\n",
        "conn = sqlite3.connect(\":memory:\")\n",
        "cur = conn.cursor()\n",
        "\n",
        "tabla = \"\"\"\n",
        "CREATE TABLE tbl0(\n",
        "  K0 CHAR(1),\n",
        "  c01 INT,\n",
        "  c02 INT,\n",
        "  c03 CHAR(4),\n",
        "  c04 FLOAT\n",
        "  );\n",
        "\"\"\"\n",
        "cur.execute(tabla).fetchall()\n",
        "\n",
        "tabla0 = open(\"tbl0.csv\", \"rt\", encoding=\"utf-8\").readlines()\n",
        "tabla1 =[line[:-1] for line in tabla0[:-1]]\n",
        "tabla1.append(tabla0[-1])\n",
        "tabla0 = tabla1\n",
        "tabla0 = [line.split(\",\") for line in tabla0]\n",
        "tabla0[0][0] = \"A\"\n",
        "tabla0 = [tuple(line) for line in tabla0]\n",
        "\n",
        "cur.executemany(\"INSERT INTO tbl0 VALUES(?,?,?,?,?)\", tabla0).fetchall()\n",
        "cur.execute(\"SELECT * FROM tbl0 WHERE c02 > 300 OR(c02 = 300)\").fetchall()"
      ],
      "execution_count": 0,
      "outputs": []
    }
  ]
}