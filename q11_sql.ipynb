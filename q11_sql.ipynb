{
  "nbformat": 4,
  "nbformat_minor": 0,
  "metadata": {
    "colab": {
      "name": "q11.sql",
      "version": "0.3.2",
      "provenance": [],
      "include_colab_link": true
    },
    "kernelspec": {
      "name": "python3",
      "display_name": "Python 3"
    }
  },
  "cells": [
    {
      "cell_type": "markdown",
      "metadata": {
        "id": "view-in-github",
        "colab_type": "text"
      },
      "source": [
        "<a href=\"https://colab.research.google.com/github/gago27/sql/blob/master/q11_sql.ipynb\" target=\"_parent\"><img src=\"https://colab.research.google.com/assets/colab-badge.svg\" alt=\"Open In Colab\"/></a>"
      ]
    },
    {
      "cell_type": "code",
      "metadata": {
        "id": "LFaGK0dcRzXO",
        "colab_type": "code",
        "colab": {}
      },
      "source": [
        "## \n",
        "## Escriba una consulta que retorne el total \n",
        "## de registros de la tabla tbl1 para el ano\n",
        "## 2018\n",
        "##\n",
        "import sqlite3, os\n",
        "import glob \n",
        "import sys\n",
        "\n",
        "filenames = glob.glob(\"tbl1.csv\")\n",
        "conn = sqlite3.connect(\":memory:\")\n",
        "cur = conn.cursor()\n",
        "\n",
        "tabla =\"\"\"\n",
        "CREATE TABLE tbl1(\n",
        "  K0 CHAR(1),\n",
        "  K1 INT,\n",
        "  c12 FLOAT,\n",
        "  c13 INT,\n",
        "  c14 DATE,\n",
        "  c15 FLOAT,\n",
        "  c16 CHAR(4)\n",
        "  );\n",
        "\"\"\"\n",
        "cur.execute(tabla).fetchall()\n",
        "\n",
        "tabla1 = open(\"tbl1.csv\", \"rt\", encoding=\"utf-8\").readlines()\n",
        "tabla0 = [line[:-1] for line in tabla1[:-1]]\n",
        "tabla0.append(tabla1[-1])\n",
        "tabla1 = tabla0\n",
        "tabla1 = [line.split(\",\") for line in tabla1]\n",
        "tabla1 = [tuple(line) for line in tabla1]\n",
        "\n",
        "cur.executemany(\"INSERT INTO tbl1 VALUES(?,?,?,?,?,?,?)\", tabla1).fetchall()\n",
        "cur.execute(\"SELECT COUNT(*) FROM tbl1 WHERE c14 > '2017-12-31' AND(c14 < '2019-01-01')\").fetchall()"
      ],
      "execution_count": 0,
      "outputs": []
    },
    {
      "cell_type": "code",
      "metadata": {
        "id": "crRPdZAlVT83",
        "colab_type": "code",
        "colab": {}
      },
      "source": [
        "cur.executemany(\"INSERT INTO tbl1 VALUES(?,?,?,?,?,?,?)\", tabla1).fetchall()"
      ],
      "execution_count": 0,
      "outputs": []
    }
  ]
}