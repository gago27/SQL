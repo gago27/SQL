{
  "nbformat": 4,
  "nbformat_minor": 0,
  "metadata": {
    "colab": {
      "name": "q04.sql",
      "version": "0.3.2",
      "provenance": [],
      "include_colab_link": true
    },
    "kernelspec": {
      "name": "python3",
      "display_name": "Python 3"
    }
  },
  "cells": [
    {
      "cell_type": "markdown",
      "metadata": {
        "id": "view-in-github",
        "colab_type": "text"
      },
      "source": [
        "<a href=\"https://colab.research.google.com/github/gago27/sql/blob/master/q04_sql.ipynb\" target=\"_parent\"><img src=\"https://colab.research.google.com/assets/colab-badge.svg\" alt=\"Open In Colab\"/></a>"
      ]
    },
    {
      "cell_type": "code",
      "metadata": {
        "id": "POS6xahmVLhI",
        "colab_type": "code",
        "colab": {}
      },
      "source": [
        "## \n",
        "## Escriba una consulta que retorne los campos K0 y c16\n",
        "## para los registros de la tabla tbl1 para los que la \n",
        "## columna c16 empieza por la misma letra de la columna K0\n",
        "## \n",
        "import sqlite3\n",
        "import glob\n",
        "filenames = glob.glob(\"tbl1.csv\")\n",
        "conn = sqlite3.connect(\":memory:\")\n",
        "cur= conn.cursor()\n",
        "\n",
        "tabla = '''\n",
        "CREATE TABLE tbl1 (\n",
        "  K0 CHAR(1),\n",
        "  K1 INT,\n",
        "  c12 FLOAT,\n",
        "  c13 INT,\n",
        "  c14 DATE,\n",
        "  c15 FLOAT,\n",
        "  c16 CHAR(4)\n",
        "  );\n",
        " '''\n",
        "conn.execute(tabla).fetchall()\n",
        "\n",
        "tabla1 = open(\"tbl1.csv\", \"rt\", encoding=\"utf-8\").readlines()\n",
        "tabla1 = [line[:-1] for line in tabla1]\n",
        "tabla1 = [line.split(\",\") for line in tabla1]\n",
        "tabla1 = [tuple(line) for line in tabla1]\n",
        "conn.executemany('INSERT INTO tbl1 VALUES(?,?,?,?,?,?,?)', tabla1).fetchall()\n",
        "cur.execute(\"\"\"SELECT K0, c16 \n",
        "FROM tbl1 \n",
        "  WHERE\n",
        "  c16 LIKE (K0 || '%')\"\"\").fetchall()"
      ],
      "execution_count": 0,
      "outputs": []
    }
  ]
}