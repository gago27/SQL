{
  "nbformat": 4,
  "nbformat_minor": 0,
  "metadata": {
    "colab": {
      "name": "q09.sql",
      "version": "0.3.2",
      "provenance": [],
      "include_colab_link": true
    },
    "kernelspec": {
      "name": "python3",
      "display_name": "Python 3"
    }
  },
  "cells": [
    {
      "cell_type": "markdown",
      "metadata": {
        "id": "view-in-github",
        "colab_type": "text"
      },
      "source": [
        "<a href=\"https://colab.research.google.com/github/gago27/sql/blob/master/q09_sql.ipynb\" target=\"_parent\"><img src=\"https://colab.research.google.com/assets/colab-badge.svg\" alt=\"Open In Colab\"/></a>"
      ]
    },
    {
      "cell_type": "code",
      "metadata": {
        "id": "BR6ENHBICfFD",
        "colab_type": "code",
        "colab": {
          "base_uri": "https://localhost:8080/",
          "height": 34
        },
        "outputId": "1e4c78fa-f333-44de-9d7f-68cedae1e54f"
      },
      "source": [
        "## \n",
        "## Escriba una consulta que retorne el registro\n",
        "## con el menor valor en la columna c21 de la \n",
        "## tabla tbl2.\n",
        "##\n",
        "import sqlite3, os\n",
        "import glob\n",
        "\n",
        "filenames = glob.glob(\"tbl2.csv\")\n",
        "conn = sqlite3.connect(\":memory:\")\n",
        "cur = conn.cursor()\n",
        "\n",
        "tabla = \"\"\"\n",
        "CREATE TABLE tbl2(\n",
        "  K1 INT,\n",
        "  c21 FLOAT,\n",
        "  c22 INT,\n",
        "  c23 DATE,\n",
        "  c24 FLOAT,\n",
        "  c25 CHAR(5)\n",
        "  );\n",
        "\"\"\"\n",
        "cur.execute(tabla).fetchall()\n",
        "\n",
        "tabla1 = open(\"tbl2.csv\", \"rt\", encoding=\"utf-8\").readlines()\n",
        "tabla2 = [line[:-1] for line in tabla1[:-1]]\n",
        "tabla2.append(tabla1[-1])\n",
        "tabla1 = tabla2\n",
        "tabla1 = [line.split(\",\") for line in tabla1]\n",
        "tabla1[0][0] = \"5\"\n",
        "tabla1 = [tuple(line) for line in tabla1]\n",
        "\n",
        "cur.executemany(\"INSERT INTO tbl2 VALUES(?,?,?,?,?,?)\", tabla1).fetchall()\n",
        "cur.execute(\"SELECT * FROM tbl2 ORDER BY c21 LIMIT 1\").fetchall()"
      ],
      "execution_count": 27,
      "outputs": [
        {
          "output_type": "execute_result",
          "data": {
            "text/plain": [
              "[(29, 101.11, 100, '2017-11-17', 0.42, 'MV-CB')]"
            ]
          },
          "metadata": {
            "tags": []
          },
          "execution_count": 27
        }
      ]
    }
  ]
}