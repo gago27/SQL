{
  "nbformat": 4,
  "nbformat_minor": 0,
  "metadata": {
    "colab": {
      "name": "q05.ipynb",
      "version": "0.3.2",
      "provenance": [],
      "include_colab_link": true
    },
    "kernelspec": {
      "name": "python3",
      "display_name": "Python 3"
    }
  },
  "cells": [
    {
      "cell_type": "markdown",
      "metadata": {
        "id": "view-in-github",
        "colab_type": "text"
      },
      "source": [
        "<a href=\"https://colab.research.google.com/github/gago27/sql/blob/master/q05.ipynb\" target=\"_parent\"><img src=\"https://colab.research.google.com/assets/colab-badge.svg\" alt=\"Open In Colab\"/></a>"
      ]
    },
    {
      "cell_type": "code",
      "metadata": {
        "id": "NNYuYK1OF_TP",
        "colab_type": "code",
        "colab": {
          "base_uri": "https://localhost:8080/",
          "height": 34
        },
        "outputId": "f9140c61-87c1-4124-def5-71121fe903db"
      },
      "source": [
        "## \n",
        "## Escriba una consulta que retorne todos los campos de \n",
        "## la tabla tbl0 para los que el campo c02 es igual a 100\n",
        "## o igual a 600\n",
        "## \n",
        "import sqlite3\n",
        "import glob\n",
        "conn = sqlite3.connect(\":memory:\")\n",
        "cur = conn.cursor()\n",
        "filenames = glob.glob(\"tbl0.csv\")\n",
        "tabla= \"\"\"\n",
        "CREATE TABLE tbl0 (\n",
        " K0 CHAR(1),\n",
        " c01 INT,\n",
        " c02 INT,\n",
        " c03 CHAR(4),\n",
        " c04 FLOAT\n",
        " );\"\"\"\n",
        "conn.execute(tabla).fetchall()\n",
        "tablas = open(\"tbl0.csv\", \"rt\", encoding=\"utf-8\").readlines()\n",
        "tablas = [line[:-1] for line in tablas]\n",
        "tablas = [line.split(\",\") for line in tablas]\n",
        "tablas = [tuple(line) for line in tablas]\n",
        "tablas[0][0] = 'A'"
      ],
      "execution_count": 4,
      "outputs": [
        {
          "output_type": "execute_result",
          "data": {
            "text/plain": [
              "[]"
            ]
          },
          "metadata": {
            "tags": []
          },
          "execution_count": 4
        }
      ]
    },
    {
      "cell_type": "code",
      "metadata": {
        "id": "Ye9ZDs2HJQzk",
        "colab_type": "code",
        "colab": {
          "base_uri": "https://localhost:8080/",
          "height": 34
        },
        "outputId": "4a5abadb-7f93-46e9-eb90-6daf41f840b3"
      },
      "source": [
        "conn.executemany(\"INSERT INTO tbl0 VALUES(?,?,?,?,?)\", tablas).fetchall()"
      ],
      "execution_count": 12,
      "outputs": [
        {
          "output_type": "execute_result",
          "data": {
            "text/plain": [
              "[]"
            ]
          },
          "metadata": {
            "tags": []
          },
          "execution_count": 12
        }
      ]
    },
    {
      "cell_type": "code",
      "metadata": {
        "id": "o3ELmmaIJrDl",
        "colab_type": "code",
        "colab": {
          "base_uri": "https://localhost:8080/",
          "height": 85
        },
        "outputId": "9686c9e0-3a01-42e0-9922-2808d77b8010"
      },
      "source": [
        "conn.execute(\"SELECT * FROM tbl0 WHERE c02 = 100 OR c02 = 600\").fetchall()"
      ],
      "execution_count": 21,
      "outputs": [
        {
          "output_type": "execute_result",
          "data": {
            "text/plain": [
              "[('B', 7000, 100, 'OLPKN', 0.2),\n",
              " ('C', 1000, 600, 'LMMML', 0.2),\n",
              " ('D', 4000, 600, 'PJLJL', 0.4),\n",
              " ('G', 5000, 100, 'NLPLO', 0.2)]"
            ]
          },
          "metadata": {
            "tags": []
          },
          "execution_count": 21
        }
      ]
    },
    {
      "cell_type": "code",
      "metadata": {
        "id": "POzBeBBcHlLD",
        "colab_type": "code",
        "colab": {
          "base_uri": "https://localhost:8080/",
          "height": 170
        },
        "outputId": "3579a286-ecb9-4aa6-e464-4f0da92e2cb5"
      },
      "source": [
        "tablas = open(\"tbl0.csv\", \"rt\", encoding=\"utf-8\").readlines()\n",
        "tablas = [line[:-1] for line in tablas]\n",
        "tablas = [line.split(\",\") for line in tablas]\n",
        "tablas[0][0] = 'A'\n",
        "tablas = [tuple(line) for line in tablas]\n",
        "tablas"
      ],
      "execution_count": 11,
      "outputs": [
        {
          "output_type": "execute_result",
          "data": {
            "text/plain": [
              "[('A', '5000', '900', 'NMNJL', '0.4'),\n",
              " ('B', '7000', '100', 'OLPKN', '0.2'),\n",
              " ('C', '1000', '600', 'LMMML', '0.2'),\n",
              " ('D', '4000', '600', 'PJLJL', '0.4'),\n",
              " ('E', '4000', '200', 'PONNJ', '0.4'),\n",
              " ('F', '2000', '300', 'NNPJO', '0.3'),\n",
              " ('G', '5000', '100', 'NLPLO', '0.2'),\n",
              " ('H', '1000', '200', 'NLPPO', '0.4'),\n",
              " ('I', '3000', '300', 'PPPPL', '0.')]"
            ]
          },
          "metadata": {
            "tags": []
          },
          "execution_count": 11
        }
      ]
    }
  ]
}