{
  "nbformat": 4,
  "nbformat_minor": 0,
  "metadata": {
    "colab": {
      "name": "q05.ipynb",
      "version": "0.3.2",
      "provenance": [],
      "include_colab_link": true
    },
    "kernelspec": {
      "name": "python3",
      "display_name": "Python 3"
    }
  },
  "cells": [
    {
      "cell_type": "markdown",
      "metadata": {
        "id": "view-in-github",
        "colab_type": "text"
      },
      "source": [
        "<a href=\"https://colab.research.google.com/github/gago27/sql/blob/master/q05.ipynb\" target=\"_parent\"><img src=\"https://colab.research.google.com/assets/colab-badge.svg\" alt=\"Open In Colab\"/></a>"
      ]
    },
    {
      "cell_type": "code",
      "metadata": {
        "id": "NNYuYK1OF_TP",
        "colab_type": "code",
        "colab": {}
      },
      "source": [
        "## \n",
        "## Escriba una consulta que retorne todos los campos de \n",
        "## la tabla tbl0 para los que el campo c02 es igual a 100\n",
        "## o igual a 600\n",
        "## \n",
        "import sqlite3\n",
        "import glob\n",
        "conn = sqlite3.connect(\":memory:\")\n",
        "cur = conn.cursor()\n",
        "filenames = glob.glob(\"tbl0.csv\")\n",
        "tabla= \"\"\"\n",
        "CREATE TABLE tbl0 (\n",
        " K0 CHAR(1),\n",
        " c01 INT,\n",
        " c02 INT,\n",
        " c03 CHAR(4),\n",
        " c04 FLOAT\n",
        " );\"\"\"\n",
        "conn.execute(tabla).fetchall()\n",
        "tablas = open(\"tbl0.csv\", \"rt\", encoding=\"utf-8\").readlines()\n",
        "tablas = [line[:-1] for line in tablas]\n",
        "tablas = [line.split(\",\") for line in tablas]\n",
        "tablas[0][0] = 'A'\n",
        "tablas = [tuple(line) for line in tablas]\n",
        "conn.executemany(\"INSERT INTO tbl0 VALUES(?,?,?,?,?)\", tablas).fetchall()\n",
        "conn.execute(\"SELECT * FROM tbl0 WHERE c02 = 100 OR c02 = 600\").fetchall()"
      ],
      "execution_count": 0,
      "outputs": []
    }
  ]
}