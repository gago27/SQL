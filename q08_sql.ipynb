{
  "nbformat": 4,
  "nbformat_minor": 0,
  "metadata": {
    "colab": {
      "name": "q08.sql",
      "version": "0.3.2",
      "provenance": [],
      "include_colab_link": true
    },
    "kernelspec": {
      "name": "python3",
      "display_name": "Python 3"
    }
  },
  "cells": [
    {
      "cell_type": "markdown",
      "metadata": {
        "id": "view-in-github",
        "colab_type": "text"
      },
      "source": [
        "<a href=\"https://colab.research.google.com/github/gago27/sql/blob/master/q08_sql.ipynb\" target=\"_parent\"><img src=\"https://colab.research.google.com/assets/colab-badge.svg\" alt=\"Open In Colab\"/></a>"
      ]
    },
    {
      "cell_type": "code",
      "metadata": {
        "id": "tSF6Ddj1Il9N",
        "colab_type": "code",
        "colab": {}
      },
      "source": [
        "## \n",
        "## Escriba una consulta que compute el promedio\n",
        "## de la columna c21 de la tabla tbl2 por ano \n",
        "## (columna c23) que este ordenada por año. \n",
        "##\n",
        "import sqlite3, os\n",
        "import glob\n",
        "import sys\n",
        "import time, datetime\n",
        "\n",
        "filenames = glob.glob(\"tbl2.csv\")\n",
        "conn = sqlite3.connect(\":memory:\")\n",
        "cur = conn.cursor()\n",
        "tabla = \"\"\"\n",
        "CREATE TABLE tbl2(\n",
        "  K1 INT,\n",
        "  c21 FLOAT,\n",
        "  c22 INT,\n",
        "  c23 DATE,\n",
        "  c24 FLOAT,\n",
        "  c25 CHAR(5)\n",
        "  );\n",
        "\"\"\"\n",
        "cur.execute(tabla).fetchall()\n",
        "tabla1 = open(\"tbl2.csv\", \"rt\", encoding=\"utf-8\").readlines()\n",
        "tabla2 = [line[:-1] for line in tabla1[:-1]]\n",
        "tabla2.append(tabla1[-1])\n",
        "tabla1 = tabla2\n",
        "tabla1= [line.split(\",\") for line in tabla1]\n",
        "tabla1[0][0] = '5'\n",
        "tabla1 = [tuple(line) for line in tabla1]\n",
        "\n",
        "cur.executemany(\"INSERT INTO tbl2 VALUES(?,?,?,?,?,?)\", tabla1).fetchall()\n",
        "\n",
        "cur.execute(\"\"\"SELECT SUBSTR(c23, 1, 4), AVG(c21) FROM tbl2\n",
        "            GROUP BY\n",
        "            SUBSTR(c23, 1, 4)\n",
        "            \"\"\").fetchall()"
      ],
      "execution_count": 0,
      "outputs": []
    }
  ]
}