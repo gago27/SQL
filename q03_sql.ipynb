{
  "nbformat": 4,
  "nbformat_minor": 0,
  "metadata": {
    "colab": {
      "name": "q03.sql",
      "version": "0.3.2",
      "provenance": [],
      "include_colab_link": true
    },
    "kernelspec": {
      "name": "python3",
      "display_name": "Python 3"
    }
  },
  "cells": [
    {
      "cell_type": "markdown",
      "metadata": {
        "id": "view-in-github",
        "colab_type": "text"
      },
      "source": [
        "<a href=\"https://colab.research.google.com/github/gago27/sql/blob/master/q03_sql.ipynb\" target=\"_parent\"><img src=\"https://colab.research.google.com/assets/colab-badge.svg\" alt=\"Open In Colab\"/></a>"
      ]
    },
    {
      "cell_type": "code",
      "metadata": {
        "id": "3SBDRbUrFZ8M",
        "colab_type": "code",
        "colab": {
          "base_uri": "https://localhost:8080/",
          "height": 34
        },
        "outputId": "582130a9-45fe-459f-d79f-0c3ebb26cd79"
      },
      "source": [
        "## \n",
        "## Escriba una consulta que retorne los primeros cinco\n",
        "## registros de la tabla tbl1 ordenados por fecha\n",
        "## \n",
        "import sqlite3, os\n",
        "import glob\n",
        "filenames = glob.glob(\"tbl1.csv\")\n",
        "conn = sqlite3.connect(\":memory:\")\n",
        "cur = conn.cursor()\n",
        "tabla = '''\n",
        "CREATE TABLE tbl1 (\n",
        "  K0 CHAR(1),\n",
        "  K1 INT,\n",
        "  c12 FLOAT,\n",
        "  c13 INT,\n",
        "  c14 DATE,\n",
        "  c15 FLOAT,\n",
        "  c16 CHAR(4)\n",
        "  );\n",
        "  '''\n",
        "conn.execute(tabla).fetchall()\n",
        "\n",
        "tablita = open(\"tbl1.csv\", \"rt\", encoding=\"utf=8\").readlines()\n",
        "tablita = [line[:-1] for line in tablita]\n",
        "tablita = [line.split(\",\") for line in tablita]\n",
        "tablita = [tuple(line) for line in tablita]\n",
        "conn.executemany(\"INSERT INTO tbl1 VALUES (?,?,?,?,?,?,?)\", tablita).fetchall()"
      ],
      "execution_count": 1,
      "outputs": [
        {
          "output_type": "execute_result",
          "data": {
            "text/plain": [
              "[]"
            ]
          },
          "metadata": {
            "tags": []
          },
          "execution_count": 1
        }
      ]
    },
    {
      "cell_type": "code",
      "metadata": {
        "id": "8npH2dgdG6M_",
        "colab_type": "code",
        "colab": {
          "base_uri": "https://localhost:8080/",
          "height": 102
        },
        "outputId": "065750f0-9193-4793-9f64-34643bc419f6"
      },
      "source": [
        "conn.execute(\"SELECT * FROM 'tbl1' ORDER BY c14 LIMIT 5\").fetchall()\n"
      ],
      "execution_count": 12,
      "outputs": [
        {
          "output_type": "execute_result",
          "data": {
            "text/plain": [
              "[('A', 20, 938.16, 300, '2016-09-12', 0.19, 'BECB'),\n",
              " ('C', 15, 370.58, 900, '2016-10-01', 0.11, 'GCDD'),\n",
              " ('E', 22, 118.77, 900, '2016-10-29', 0.32, 'GEFE'),\n",
              " ('B', 12, 999.72, 800, '2016-11-09', 0.26, 'FCGD'),\n",
              " ('E', 14, 832.44, 800, '2016-11-22', 0.39, 'EGFD')]"
            ]
          },
          "metadata": {
            "tags": []
          },
          "execution_count": 12
        }
      ]
    }
  ]
}